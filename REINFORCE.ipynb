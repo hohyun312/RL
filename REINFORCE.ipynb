{
 "cells": [
  {
   "cell_type": "code",
   "execution_count": 16,
   "metadata": {},
   "outputs": [],
   "source": [
    "import gym\n",
    "import torch\n",
    "from torch import nn\n",
    "\n",
    "class Policy(nn.Module):\n",
    "    def __init__(self):\n",
    "        super().__init__()\n",
    "        self.fc1 = nn.Linear(4, 128)\n",
    "        self.fc2 = nn.Linear(128, 2)\n",
    "        \n",
    "    def forward(self, x):\n",
    "        x = torch.relu(self.fc1(x))\n",
    "        x = torch.softmax(self.fc2(x), dim=0)\n",
    "        return x\n",
    "    \n",
    "    def sample_action(self, x):\n",
    "        m = torch.distributions.Categorical(x)\n",
    "        return m.sample().item()\n"
   ]
  },
  {
   "cell_type": "code",
   "execution_count": 17,
   "metadata": {},
   "outputs": [],
   "source": [
    "       \n",
    "env = gym.make(\"CartPole-v1\")\n",
    "pi = Policy()\n",
    "gamma = 0.95\n",
    "lr = 0.00025\n",
    "optimizer = torch.optim.Adam(pi.parameters(), lr=lr)\n",
    "rewards = []"
   ]
  },
  {
   "cell_type": "code",
   "execution_count": 22,
   "metadata": {},
   "outputs": [],
   "source": [
    "\n",
    "for epi in range(2000):\n",
    "    \n",
    "    state = env.reset()\n",
    "    data = []\n",
    "    \n",
    "    while True:\n",
    "        prob = pi(torch.from_numpy(state).float())\n",
    "        action = pi.sample_action(prob)\n",
    "        state, reward, done, info = env.step(action)\n",
    "        data.append([prob[action], reward])\n",
    "        \n",
    "        if done:\n",
    "            break\n",
    "            \n",
    "    R = 0\n",
    "    optimizer.zero_grad()\n",
    "    for p, r in data[::-1]:\n",
    "        R = r + gamma * R\n",
    "        loss = - R * torch.log(p)\n",
    "        loss.backward()\n",
    "    optimizer.step()\n",
    "    rewards.append(len(data))\n"
   ]
  },
  {
   "cell_type": "code",
   "execution_count": 24,
   "metadata": {},
   "outputs": [
    {
     "data": {
      "text/plain": [
       "[<matplotlib.lines.Line2D at 0x1e8e4fb6e88>]"
      ]
     },
     "execution_count": 24,
     "metadata": {},
     "output_type": "execute_result"
    },
    {
     "data": {
      "image/png": "[encoded data removed]",
      "text/plain": [
       "<Figure size 432x288 with 1 Axes>"
      ]
     },
     "metadata": {
      "needs_background": "light"
     },
     "output_type": "display_data"
    }
   ],
   "source": [
    "import matplotlib.pyplot as plt\n",
    "import numpy as np\n",
    "\n",
    "plt.plot(rewards)"
   ]
  },
  {
   "cell_type": "code",
   "execution_count": null,
   "metadata": {},
   "outputs": [],
   "source": []
  }
 ],
 "metadata": {
  "kernelspec": {
   "display_name": "Python 3",
   "language": "python",
   "name": "python3"
  },
  "language_info": {
   "codemirror_mode": {
    "name": "ipython",
    "version": 3
   },
   "file_extension": ".py",
   "mimetype": "text/x-python",
   "name": "python",
   "nbconvert_exporter": "python",
   "pygments_lexer": "ipython3",
   "version": "3.7.9"
  },
  "toc": {
   "base_numbering": 1,
   "nav_menu": {},
   "number_sections": true,
   "sideBar": true,
   "skip_h1_title": false,
   "title_cell": "Table of Contents",
   "title_sidebar": "Contents",
   "toc_cell": false,
   "toc_position": {},
   "toc_section_display": true,
   "toc_window_display": false
  }
 },
 "nbformat": 4,
 "nbformat_minor": 4
}
